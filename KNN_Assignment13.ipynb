{
  "nbformat": 4,
  "nbformat_minor": 0,
  "metadata": {
    "colab": {
      "provenance": [],
      "include_colab_link": true
    },
    "kernelspec": {
      "name": "python3",
      "display_name": "Python 3"
    },
    "language_info": {
      "name": "python"
    }
  },
  "cells": [
    {
      "cell_type": "markdown",
      "metadata": {
        "id": "view-in-github",
        "colab_type": "text"
      },
      "source": [
        "<a href=\"https://colab.research.google.com/github/SAMMOSES26/task-7/blob/main/KNN_Assignment13.ipynb\" target=\"_parent\"><img src=\"https://colab.research.google.com/assets/colab-badge.svg\" alt=\"Open In Colab\"/></a>"
      ]
    },
    {
      "cell_type": "code",
      "metadata": {
        "id": "JolSMtbOfmc9"
      },
      "source": [
        "#Social_Networks_Ads.csv"
      ],
      "execution_count": 129,
      "outputs": []
    },
    {
      "cell_type": "markdown",
      "metadata": {
        "id": "h_3tQC1Kf0ut"
      },
      "source": [
        "**Importing the libraries**"
      ]
    },
    {
      "cell_type": "code",
      "metadata": {
        "id": "EObl2Z6IfyG4"
      },
      "source": [
        "import matplotlib.pyplot as plt\n",
        "import pandas as pd\n",
        "import numpy as np\n"
      ],
      "execution_count": 130,
      "outputs": []
    },
    {
      "cell_type": "code",
      "metadata": {
        "id": "ULahHzTPfyJW"
      },
      "source": [
        "from sklearn.model_selection import train_test_split\n",
        "from sklearn.preprocessing import StandardScaler ## standrard scalig\n",
        "from sklearn.neighbors import KNeighborsClassifier\n",
        "from sklearn.model_selection import cross_val_score # import all the functions reqd for cross validation\n"
      ],
      "execution_count": 131,
      "outputs": []
    },
    {
      "cell_type": "markdown",
      "metadata": {
        "id": "yxzr0NOWf73l"
      },
      "source": [
        "**Importing the dataset**"
      ]
    },
    {
      "cell_type": "code",
      "metadata": {
        "id": "nN9xC2r6fyMZ",
        "colab": {
          "base_uri": "https://localhost:8080/",
          "height": 206
        },
        "outputId": "beff0ea6-57e1-4b1e-9eaf-f9f36a2f0a1a"
      },
      "source": [
        "df = pd.read_csv('Social_Network_Ads.csv')\n",
        "df.head()"
      ],
      "execution_count": 132,
      "outputs": [
        {
          "output_type": "execute_result",
          "data": {
            "text/plain": [
              "    User ID  Gender  Age  EstimatedSalary  Purchased\n",
              "0  15624510    Male   19            19000          0\n",
              "1  15810944    Male   35            20000          0\n",
              "2  15668575  Female   26            43000          0\n",
              "3  15603246  Female   27            57000          0\n",
              "4  15804002    Male   19            76000          0"
            ],
            "text/html": [
              "\n",
              "  <div id=\"df-28d9c404-1d40-4f4e-9cd5-8eb33b493e6b\">\n",
              "    <div class=\"colab-df-container\">\n",
              "      <div>\n",
              "<style scoped>\n",
              "    .dataframe tbody tr th:only-of-type {\n",
              "        vertical-align: middle;\n",
              "    }\n",
              "\n",
              "    .dataframe tbody tr th {\n",
              "        vertical-align: top;\n",
              "    }\n",
              "\n",
              "    .dataframe thead th {\n",
              "        text-align: right;\n",
              "    }\n",
              "</style>\n",
              "<table border=\"1\" class=\"dataframe\">\n",
              "  <thead>\n",
              "    <tr style=\"text-align: right;\">\n",
              "      <th></th>\n",
              "      <th>User ID</th>\n",
              "      <th>Gender</th>\n",
              "      <th>Age</th>\n",
              "      <th>EstimatedSalary</th>\n",
              "      <th>Purchased</th>\n",
              "    </tr>\n",
              "  </thead>\n",
              "  <tbody>\n",
              "    <tr>\n",
              "      <th>0</th>\n",
              "      <td>15624510</td>\n",
              "      <td>Male</td>\n",
              "      <td>19</td>\n",
              "      <td>19000</td>\n",
              "      <td>0</td>\n",
              "    </tr>\n",
              "    <tr>\n",
              "      <th>1</th>\n",
              "      <td>15810944</td>\n",
              "      <td>Male</td>\n",
              "      <td>35</td>\n",
              "      <td>20000</td>\n",
              "      <td>0</td>\n",
              "    </tr>\n",
              "    <tr>\n",
              "      <th>2</th>\n",
              "      <td>15668575</td>\n",
              "      <td>Female</td>\n",
              "      <td>26</td>\n",
              "      <td>43000</td>\n",
              "      <td>0</td>\n",
              "    </tr>\n",
              "    <tr>\n",
              "      <th>3</th>\n",
              "      <td>15603246</td>\n",
              "      <td>Female</td>\n",
              "      <td>27</td>\n",
              "      <td>57000</td>\n",
              "      <td>0</td>\n",
              "    </tr>\n",
              "    <tr>\n",
              "      <th>4</th>\n",
              "      <td>15804002</td>\n",
              "      <td>Male</td>\n",
              "      <td>19</td>\n",
              "      <td>76000</td>\n",
              "      <td>0</td>\n",
              "    </tr>\n",
              "  </tbody>\n",
              "</table>\n",
              "</div>\n",
              "      <button class=\"colab-df-convert\" onclick=\"convertToInteractive('df-28d9c404-1d40-4f4e-9cd5-8eb33b493e6b')\"\n",
              "              title=\"Convert this dataframe to an interactive table.\"\n",
              "              style=\"display:none;\">\n",
              "        \n",
              "  <svg xmlns=\"http://www.w3.org/2000/svg\" height=\"24px\"viewBox=\"0 0 24 24\"\n",
              "       width=\"24px\">\n",
              "    <path d=\"M0 0h24v24H0V0z\" fill=\"none\"/>\n",
              "    <path d=\"M18.56 5.44l.94 2.06.94-2.06 2.06-.94-2.06-.94-.94-2.06-.94 2.06-2.06.94zm-11 1L8.5 8.5l.94-2.06 2.06-.94-2.06-.94L8.5 2.5l-.94 2.06-2.06.94zm10 10l.94 2.06.94-2.06 2.06-.94-2.06-.94-.94-2.06-.94 2.06-2.06.94z\"/><path d=\"M17.41 7.96l-1.37-1.37c-.4-.4-.92-.59-1.43-.59-.52 0-1.04.2-1.43.59L10.3 9.45l-7.72 7.72c-.78.78-.78 2.05 0 2.83L4 21.41c.39.39.9.59 1.41.59.51 0 1.02-.2 1.41-.59l7.78-7.78 2.81-2.81c.8-.78.8-2.07 0-2.86zM5.41 20L4 18.59l7.72-7.72 1.47 1.35L5.41 20z\"/>\n",
              "  </svg>\n",
              "      </button>\n",
              "      \n",
              "  <style>\n",
              "    .colab-df-container {\n",
              "      display:flex;\n",
              "      flex-wrap:wrap;\n",
              "      gap: 12px;\n",
              "    }\n",
              "\n",
              "    .colab-df-convert {\n",
              "      background-color: #E8F0FE;\n",
              "      border: none;\n",
              "      border-radius: 50%;\n",
              "      cursor: pointer;\n",
              "      display: none;\n",
              "      fill: #1967D2;\n",
              "      height: 32px;\n",
              "      padding: 0 0 0 0;\n",
              "      width: 32px;\n",
              "    }\n",
              "\n",
              "    .colab-df-convert:hover {\n",
              "      background-color: #E2EBFA;\n",
              "      box-shadow: 0px 1px 2px rgba(60, 64, 67, 0.3), 0px 1px 3px 1px rgba(60, 64, 67, 0.15);\n",
              "      fill: #174EA6;\n",
              "    }\n",
              "\n",
              "    [theme=dark] .colab-df-convert {\n",
              "      background-color: #3B4455;\n",
              "      fill: #D2E3FC;\n",
              "    }\n",
              "\n",
              "    [theme=dark] .colab-df-convert:hover {\n",
              "      background-color: #434B5C;\n",
              "      box-shadow: 0px 1px 3px 1px rgba(0, 0, 0, 0.15);\n",
              "      filter: drop-shadow(0px 1px 2px rgba(0, 0, 0, 0.3));\n",
              "      fill: #FFFFFF;\n",
              "    }\n",
              "  </style>\n",
              "\n",
              "      <script>\n",
              "        const buttonEl =\n",
              "          document.querySelector('#df-28d9c404-1d40-4f4e-9cd5-8eb33b493e6b button.colab-df-convert');\n",
              "        buttonEl.style.display =\n",
              "          google.colab.kernel.accessAllowed ? 'block' : 'none';\n",
              "\n",
              "        async function convertToInteractive(key) {\n",
              "          const element = document.querySelector('#df-28d9c404-1d40-4f4e-9cd5-8eb33b493e6b');\n",
              "          const dataTable =\n",
              "            await google.colab.kernel.invokeFunction('convertToInteractive',\n",
              "                                                     [key], {});\n",
              "          if (!dataTable) return;\n",
              "\n",
              "          const docLinkHtml = 'Like what you see? Visit the ' +\n",
              "            '<a target=\"_blank\" href=https://colab.research.google.com/notebooks/data_table.ipynb>data table notebook</a>'\n",
              "            + ' to learn more about interactive tables.';\n",
              "          element.innerHTML = '';\n",
              "          dataTable['output_type'] = 'display_data';\n",
              "          await google.colab.output.renderOutput(dataTable, element);\n",
              "          const docLink = document.createElement('div');\n",
              "          docLink.innerHTML = docLinkHtml;\n",
              "          element.appendChild(docLink);\n",
              "        }\n",
              "      </script>\n",
              "    </div>\n",
              "  </div>\n",
              "  "
            ]
          },
          "metadata": {},
          "execution_count": 132
        }
      ]
    },
    {
      "cell_type": "code",
      "source": [
        "df.isnull().sum()"
      ],
      "metadata": {
        "colab": {
          "base_uri": "https://localhost:8080/"
        },
        "id": "5s6qC5AlfZ6L",
        "outputId": "7cd00d4c-11e3-4b2e-a80d-4b085b8ca668"
      },
      "execution_count": 133,
      "outputs": [
        {
          "output_type": "execute_result",
          "data": {
            "text/plain": [
              "User ID            0\n",
              "Gender             0\n",
              "Age                0\n",
              "EstimatedSalary    0\n",
              "Purchased          0\n",
              "dtype: int64"
            ]
          },
          "metadata": {},
          "execution_count": 133
        }
      ]
    },
    {
      "cell_type": "code",
      "source": [
        "df.dtypes"
      ],
      "metadata": {
        "colab": {
          "base_uri": "https://localhost:8080/"
        },
        "id": "SJQBubbKfjFW",
        "outputId": "370df6f2-63c7-4b9f-e706-86ca618af50d"
      },
      "execution_count": 134,
      "outputs": [
        {
          "output_type": "execute_result",
          "data": {
            "text/plain": [
              "User ID             int64\n",
              "Gender             object\n",
              "Age                 int64\n",
              "EstimatedSalary     int64\n",
              "Purchased           int64\n",
              "dtype: object"
            ]
          },
          "metadata": {},
          "execution_count": 134
        }
      ]
    },
    {
      "cell_type": "code",
      "source": [
        "df=df.drop_duplicates()"
      ],
      "metadata": {
        "id": "0JLWyE7ggAHS"
      },
      "execution_count": 135,
      "outputs": []
    },
    {
      "cell_type": "code",
      "source": [
        "df.describe()"
      ],
      "metadata": {
        "colab": {
          "base_uri": "https://localhost:8080/",
          "height": 300
        },
        "id": "ohKNTcgVgB0S",
        "outputId": "a1002fe0-e3f5-44a6-cc6a-bce8d49b24aa"
      },
      "execution_count": 136,
      "outputs": [
        {
          "output_type": "execute_result",
          "data": {
            "text/plain": [
              "            User ID         Age  EstimatedSalary   Purchased\n",
              "count  4.000000e+02  400.000000       400.000000  400.000000\n",
              "mean   1.569154e+07   37.655000     69742.500000    0.357500\n",
              "std    7.165832e+04   10.482877     34096.960282    0.479864\n",
              "min    1.556669e+07   18.000000     15000.000000    0.000000\n",
              "25%    1.562676e+07   29.750000     43000.000000    0.000000\n",
              "50%    1.569434e+07   37.000000     70000.000000    0.000000\n",
              "75%    1.575036e+07   46.000000     88000.000000    1.000000\n",
              "max    1.581524e+07   60.000000    150000.000000    1.000000"
            ],
            "text/html": [
              "\n",
              "  <div id=\"df-fa75e421-944f-4a8f-b6eb-c9fbbf4e1868\">\n",
              "    <div class=\"colab-df-container\">\n",
              "      <div>\n",
              "<style scoped>\n",
              "    .dataframe tbody tr th:only-of-type {\n",
              "        vertical-align: middle;\n",
              "    }\n",
              "\n",
              "    .dataframe tbody tr th {\n",
              "        vertical-align: top;\n",
              "    }\n",
              "\n",
              "    .dataframe thead th {\n",
              "        text-align: right;\n",
              "    }\n",
              "</style>\n",
              "<table border=\"1\" class=\"dataframe\">\n",
              "  <thead>\n",
              "    <tr style=\"text-align: right;\">\n",
              "      <th></th>\n",
              "      <th>User ID</th>\n",
              "      <th>Age</th>\n",
              "      <th>EstimatedSalary</th>\n",
              "      <th>Purchased</th>\n",
              "    </tr>\n",
              "  </thead>\n",
              "  <tbody>\n",
              "    <tr>\n",
              "      <th>count</th>\n",
              "      <td>4.000000e+02</td>\n",
              "      <td>400.000000</td>\n",
              "      <td>400.000000</td>\n",
              "      <td>400.000000</td>\n",
              "    </tr>\n",
              "    <tr>\n",
              "      <th>mean</th>\n",
              "      <td>1.569154e+07</td>\n",
              "      <td>37.655000</td>\n",
              "      <td>69742.500000</td>\n",
              "      <td>0.357500</td>\n",
              "    </tr>\n",
              "    <tr>\n",
              "      <th>std</th>\n",
              "      <td>7.165832e+04</td>\n",
              "      <td>10.482877</td>\n",
              "      <td>34096.960282</td>\n",
              "      <td>0.479864</td>\n",
              "    </tr>\n",
              "    <tr>\n",
              "      <th>min</th>\n",
              "      <td>1.556669e+07</td>\n",
              "      <td>18.000000</td>\n",
              "      <td>15000.000000</td>\n",
              "      <td>0.000000</td>\n",
              "    </tr>\n",
              "    <tr>\n",
              "      <th>25%</th>\n",
              "      <td>1.562676e+07</td>\n",
              "      <td>29.750000</td>\n",
              "      <td>43000.000000</td>\n",
              "      <td>0.000000</td>\n",
              "    </tr>\n",
              "    <tr>\n",
              "      <th>50%</th>\n",
              "      <td>1.569434e+07</td>\n",
              "      <td>37.000000</td>\n",
              "      <td>70000.000000</td>\n",
              "      <td>0.000000</td>\n",
              "    </tr>\n",
              "    <tr>\n",
              "      <th>75%</th>\n",
              "      <td>1.575036e+07</td>\n",
              "      <td>46.000000</td>\n",
              "      <td>88000.000000</td>\n",
              "      <td>1.000000</td>\n",
              "    </tr>\n",
              "    <tr>\n",
              "      <th>max</th>\n",
              "      <td>1.581524e+07</td>\n",
              "      <td>60.000000</td>\n",
              "      <td>150000.000000</td>\n",
              "      <td>1.000000</td>\n",
              "    </tr>\n",
              "  </tbody>\n",
              "</table>\n",
              "</div>\n",
              "      <button class=\"colab-df-convert\" onclick=\"convertToInteractive('df-fa75e421-944f-4a8f-b6eb-c9fbbf4e1868')\"\n",
              "              title=\"Convert this dataframe to an interactive table.\"\n",
              "              style=\"display:none;\">\n",
              "        \n",
              "  <svg xmlns=\"http://www.w3.org/2000/svg\" height=\"24px\"viewBox=\"0 0 24 24\"\n",
              "       width=\"24px\">\n",
              "    <path d=\"M0 0h24v24H0V0z\" fill=\"none\"/>\n",
              "    <path d=\"M18.56 5.44l.94 2.06.94-2.06 2.06-.94-2.06-.94-.94-2.06-.94 2.06-2.06.94zm-11 1L8.5 8.5l.94-2.06 2.06-.94-2.06-.94L8.5 2.5l-.94 2.06-2.06.94zm10 10l.94 2.06.94-2.06 2.06-.94-2.06-.94-.94-2.06-.94 2.06-2.06.94z\"/><path d=\"M17.41 7.96l-1.37-1.37c-.4-.4-.92-.59-1.43-.59-.52 0-1.04.2-1.43.59L10.3 9.45l-7.72 7.72c-.78.78-.78 2.05 0 2.83L4 21.41c.39.39.9.59 1.41.59.51 0 1.02-.2 1.41-.59l7.78-7.78 2.81-2.81c.8-.78.8-2.07 0-2.86zM5.41 20L4 18.59l7.72-7.72 1.47 1.35L5.41 20z\"/>\n",
              "  </svg>\n",
              "      </button>\n",
              "      \n",
              "  <style>\n",
              "    .colab-df-container {\n",
              "      display:flex;\n",
              "      flex-wrap:wrap;\n",
              "      gap: 12px;\n",
              "    }\n",
              "\n",
              "    .colab-df-convert {\n",
              "      background-color: #E8F0FE;\n",
              "      border: none;\n",
              "      border-radius: 50%;\n",
              "      cursor: pointer;\n",
              "      display: none;\n",
              "      fill: #1967D2;\n",
              "      height: 32px;\n",
              "      padding: 0 0 0 0;\n",
              "      width: 32px;\n",
              "    }\n",
              "\n",
              "    .colab-df-convert:hover {\n",
              "      background-color: #E2EBFA;\n",
              "      box-shadow: 0px 1px 2px rgba(60, 64, 67, 0.3), 0px 1px 3px 1px rgba(60, 64, 67, 0.15);\n",
              "      fill: #174EA6;\n",
              "    }\n",
              "\n",
              "    [theme=dark] .colab-df-convert {\n",
              "      background-color: #3B4455;\n",
              "      fill: #D2E3FC;\n",
              "    }\n",
              "\n",
              "    [theme=dark] .colab-df-convert:hover {\n",
              "      background-color: #434B5C;\n",
              "      box-shadow: 0px 1px 3px 1px rgba(0, 0, 0, 0.15);\n",
              "      filter: drop-shadow(0px 1px 2px rgba(0, 0, 0, 0.3));\n",
              "      fill: #FFFFFF;\n",
              "    }\n",
              "  </style>\n",
              "\n",
              "      <script>\n",
              "        const buttonEl =\n",
              "          document.querySelector('#df-fa75e421-944f-4a8f-b6eb-c9fbbf4e1868 button.colab-df-convert');\n",
              "        buttonEl.style.display =\n",
              "          google.colab.kernel.accessAllowed ? 'block' : 'none';\n",
              "\n",
              "        async function convertToInteractive(key) {\n",
              "          const element = document.querySelector('#df-fa75e421-944f-4a8f-b6eb-c9fbbf4e1868');\n",
              "          const dataTable =\n",
              "            await google.colab.kernel.invokeFunction('convertToInteractive',\n",
              "                                                     [key], {});\n",
              "          if (!dataTable) return;\n",
              "\n",
              "          const docLinkHtml = 'Like what you see? Visit the ' +\n",
              "            '<a target=\"_blank\" href=https://colab.research.google.com/notebooks/data_table.ipynb>data table notebook</a>'\n",
              "            + ' to learn more about interactive tables.';\n",
              "          element.innerHTML = '';\n",
              "          dataTable['output_type'] = 'display_data';\n",
              "          await google.colab.output.renderOutput(dataTable, element);\n",
              "          const docLink = document.createElement('div');\n",
              "          docLink.innerHTML = docLinkHtml;\n",
              "          element.appendChild(docLink);\n",
              "        }\n",
              "      </script>\n",
              "    </div>\n",
              "  </div>\n",
              "  "
            ]
          },
          "metadata": {},
          "execution_count": 136
        }
      ]
    },
    {
      "cell_type": "code",
      "source": [
        "df = df.drop('User ID', axis=1)\n",
        "df.head()"
      ],
      "metadata": {
        "colab": {
          "base_uri": "https://localhost:8080/",
          "height": 206
        },
        "id": "FD7N_tFpgagj",
        "outputId": "f47ed553-d924-4ac9-bc88-b5504d2c7037"
      },
      "execution_count": 137,
      "outputs": [
        {
          "output_type": "execute_result",
          "data": {
            "text/plain": [
              "   Gender  Age  EstimatedSalary  Purchased\n",
              "0    Male   19            19000          0\n",
              "1    Male   35            20000          0\n",
              "2  Female   26            43000          0\n",
              "3  Female   27            57000          0\n",
              "4    Male   19            76000          0"
            ],
            "text/html": [
              "\n",
              "  <div id=\"df-35b086d4-9249-470c-b9fd-fbfb781dcb06\">\n",
              "    <div class=\"colab-df-container\">\n",
              "      <div>\n",
              "<style scoped>\n",
              "    .dataframe tbody tr th:only-of-type {\n",
              "        vertical-align: middle;\n",
              "    }\n",
              "\n",
              "    .dataframe tbody tr th {\n",
              "        vertical-align: top;\n",
              "    }\n",
              "\n",
              "    .dataframe thead th {\n",
              "        text-align: right;\n",
              "    }\n",
              "</style>\n",
              "<table border=\"1\" class=\"dataframe\">\n",
              "  <thead>\n",
              "    <tr style=\"text-align: right;\">\n",
              "      <th></th>\n",
              "      <th>Gender</th>\n",
              "      <th>Age</th>\n",
              "      <th>EstimatedSalary</th>\n",
              "      <th>Purchased</th>\n",
              "    </tr>\n",
              "  </thead>\n",
              "  <tbody>\n",
              "    <tr>\n",
              "      <th>0</th>\n",
              "      <td>Male</td>\n",
              "      <td>19</td>\n",
              "      <td>19000</td>\n",
              "      <td>0</td>\n",
              "    </tr>\n",
              "    <tr>\n",
              "      <th>1</th>\n",
              "      <td>Male</td>\n",
              "      <td>35</td>\n",
              "      <td>20000</td>\n",
              "      <td>0</td>\n",
              "    </tr>\n",
              "    <tr>\n",
              "      <th>2</th>\n",
              "      <td>Female</td>\n",
              "      <td>26</td>\n",
              "      <td>43000</td>\n",
              "      <td>0</td>\n",
              "    </tr>\n",
              "    <tr>\n",
              "      <th>3</th>\n",
              "      <td>Female</td>\n",
              "      <td>27</td>\n",
              "      <td>57000</td>\n",
              "      <td>0</td>\n",
              "    </tr>\n",
              "    <tr>\n",
              "      <th>4</th>\n",
              "      <td>Male</td>\n",
              "      <td>19</td>\n",
              "      <td>76000</td>\n",
              "      <td>0</td>\n",
              "    </tr>\n",
              "  </tbody>\n",
              "</table>\n",
              "</div>\n",
              "      <button class=\"colab-df-convert\" onclick=\"convertToInteractive('df-35b086d4-9249-470c-b9fd-fbfb781dcb06')\"\n",
              "              title=\"Convert this dataframe to an interactive table.\"\n",
              "              style=\"display:none;\">\n",
              "        \n",
              "  <svg xmlns=\"http://www.w3.org/2000/svg\" height=\"24px\"viewBox=\"0 0 24 24\"\n",
              "       width=\"24px\">\n",
              "    <path d=\"M0 0h24v24H0V0z\" fill=\"none\"/>\n",
              "    <path d=\"M18.56 5.44l.94 2.06.94-2.06 2.06-.94-2.06-.94-.94-2.06-.94 2.06-2.06.94zm-11 1L8.5 8.5l.94-2.06 2.06-.94-2.06-.94L8.5 2.5l-.94 2.06-2.06.94zm10 10l.94 2.06.94-2.06 2.06-.94-2.06-.94-.94-2.06-.94 2.06-2.06.94z\"/><path d=\"M17.41 7.96l-1.37-1.37c-.4-.4-.92-.59-1.43-.59-.52 0-1.04.2-1.43.59L10.3 9.45l-7.72 7.72c-.78.78-.78 2.05 0 2.83L4 21.41c.39.39.9.59 1.41.59.51 0 1.02-.2 1.41-.59l7.78-7.78 2.81-2.81c.8-.78.8-2.07 0-2.86zM5.41 20L4 18.59l7.72-7.72 1.47 1.35L5.41 20z\"/>\n",
              "  </svg>\n",
              "      </button>\n",
              "      \n",
              "  <style>\n",
              "    .colab-df-container {\n",
              "      display:flex;\n",
              "      flex-wrap:wrap;\n",
              "      gap: 12px;\n",
              "    }\n",
              "\n",
              "    .colab-df-convert {\n",
              "      background-color: #E8F0FE;\n",
              "      border: none;\n",
              "      border-radius: 50%;\n",
              "      cursor: pointer;\n",
              "      display: none;\n",
              "      fill: #1967D2;\n",
              "      height: 32px;\n",
              "      padding: 0 0 0 0;\n",
              "      width: 32px;\n",
              "    }\n",
              "\n",
              "    .colab-df-convert:hover {\n",
              "      background-color: #E2EBFA;\n",
              "      box-shadow: 0px 1px 2px rgba(60, 64, 67, 0.3), 0px 1px 3px 1px rgba(60, 64, 67, 0.15);\n",
              "      fill: #174EA6;\n",
              "    }\n",
              "\n",
              "    [theme=dark] .colab-df-convert {\n",
              "      background-color: #3B4455;\n",
              "      fill: #D2E3FC;\n",
              "    }\n",
              "\n",
              "    [theme=dark] .colab-df-convert:hover {\n",
              "      background-color: #434B5C;\n",
              "      box-shadow: 0px 1px 3px 1px rgba(0, 0, 0, 0.15);\n",
              "      filter: drop-shadow(0px 1px 2px rgba(0, 0, 0, 0.3));\n",
              "      fill: #FFFFFF;\n",
              "    }\n",
              "  </style>\n",
              "\n",
              "      <script>\n",
              "        const buttonEl =\n",
              "          document.querySelector('#df-35b086d4-9249-470c-b9fd-fbfb781dcb06 button.colab-df-convert');\n",
              "        buttonEl.style.display =\n",
              "          google.colab.kernel.accessAllowed ? 'block' : 'none';\n",
              "\n",
              "        async function convertToInteractive(key) {\n",
              "          const element = document.querySelector('#df-35b086d4-9249-470c-b9fd-fbfb781dcb06');\n",
              "          const dataTable =\n",
              "            await google.colab.kernel.invokeFunction('convertToInteractive',\n",
              "                                                     [key], {});\n",
              "          if (!dataTable) return;\n",
              "\n",
              "          const docLinkHtml = 'Like what you see? Visit the ' +\n",
              "            '<a target=\"_blank\" href=https://colab.research.google.com/notebooks/data_table.ipynb>data table notebook</a>'\n",
              "            + ' to learn more about interactive tables.';\n",
              "          element.innerHTML = '';\n",
              "          dataTable['output_type'] = 'display_data';\n",
              "          await google.colab.output.renderOutput(dataTable, element);\n",
              "          const docLink = document.createElement('div');\n",
              "          docLink.innerHTML = docLinkHtml;\n",
              "          element.appendChild(docLink);\n",
              "        }\n",
              "      </script>\n",
              "    </div>\n",
              "  </div>\n",
              "  "
            ]
          },
          "metadata": {},
          "execution_count": 137
        }
      ]
    },
    {
      "cell_type": "code",
      "source": [
        "iqr=df['Age'].quantile(0.75) - df['Age'].quantile(0.25)\n",
        "upper_threshold=df['Age'].quantile(0.75) + (1.5 * iqr)\n",
        "lower_threshold=df['Age'].quantile(0.25) - (1.5 * iqr)\n",
        "upper_threshold,lower_threshold"
      ],
      "metadata": {
        "colab": {
          "base_uri": "https://localhost:8080/"
        },
        "id": "8wr7kFGcfs6V",
        "outputId": "3a5a5975-ee65-4e5e-bb4f-b2be4dd520fc"
      },
      "execution_count": 138,
      "outputs": [
        {
          "output_type": "execute_result",
          "data": {
            "text/plain": [
              "(70.375, 5.375)"
            ]
          },
          "metadata": {},
          "execution_count": 138
        }
      ]
    },
    {
      "cell_type": "code",
      "source": [
        "iqr=df['EstimatedSalary'].quantile(0.75) - df['EstimatedSalary'].quantile(0.25)\n",
        "upper_threshold=df['EstimatedSalary'].quantile(0.75) + (1.5 * iqr)\n",
        "lower_threshold=df['EstimatedSalary'].quantile(0.25) - (1.5 * iqr)\n",
        "upper_threshold,lower_threshold"
      ],
      "metadata": {
        "colab": {
          "base_uri": "https://localhost:8080/"
        },
        "id": "vUHQOihZgR7u",
        "outputId": "356e6de3-e809-436b-b76d-f135b9ac61d5"
      },
      "execution_count": 139,
      "outputs": [
        {
          "output_type": "execute_result",
          "data": {
            "text/plain": [
              "(155500.0, -24500.0)"
            ]
          },
          "metadata": {},
          "execution_count": 139
        }
      ]
    },
    {
      "cell_type": "code",
      "source": [
        "# encode\n",
        "dfT=df\n",
        "dfT[\"Gender\"] = df[\"Gender\"].map({\"Male\" : 0, \"Female\" : 1})\n",
        "# df['Gender'] = df['Gender'].map({\"Male\" : 0, \"Female\": 1})"
      ],
      "metadata": {
        "id": "RR0QC3mxi92c"
      },
      "execution_count": 140,
      "outputs": []
    },
    {
      "cell_type": "code",
      "source": [
        "dfT"
      ],
      "metadata": {
        "colab": {
          "base_uri": "https://localhost:8080/",
          "height": 424
        },
        "id": "HIk4lG2Yjf1L",
        "outputId": "bf0638be-79cf-4821-9c29-5d3de4e72110"
      },
      "execution_count": 141,
      "outputs": [
        {
          "output_type": "execute_result",
          "data": {
            "text/plain": [
              "     Gender  Age  EstimatedSalary  Purchased\n",
              "0         0   19            19000          0\n",
              "1         0   35            20000          0\n",
              "2         1   26            43000          0\n",
              "3         1   27            57000          0\n",
              "4         0   19            76000          0\n",
              "..      ...  ...              ...        ...\n",
              "395       1   46            41000          1\n",
              "396       0   51            23000          1\n",
              "397       1   50            20000          1\n",
              "398       0   36            33000          0\n",
              "399       1   49            36000          1\n",
              "\n",
              "[400 rows x 4 columns]"
            ],
            "text/html": [
              "\n",
              "  <div id=\"df-a29f3b03-22d2-4455-b002-486ce05113cb\">\n",
              "    <div class=\"colab-df-container\">\n",
              "      <div>\n",
              "<style scoped>\n",
              "    .dataframe tbody tr th:only-of-type {\n",
              "        vertical-align: middle;\n",
              "    }\n",
              "\n",
              "    .dataframe tbody tr th {\n",
              "        vertical-align: top;\n",
              "    }\n",
              "\n",
              "    .dataframe thead th {\n",
              "        text-align: right;\n",
              "    }\n",
              "</style>\n",
              "<table border=\"1\" class=\"dataframe\">\n",
              "  <thead>\n",
              "    <tr style=\"text-align: right;\">\n",
              "      <th></th>\n",
              "      <th>Gender</th>\n",
              "      <th>Age</th>\n",
              "      <th>EstimatedSalary</th>\n",
              "      <th>Purchased</th>\n",
              "    </tr>\n",
              "  </thead>\n",
              "  <tbody>\n",
              "    <tr>\n",
              "      <th>0</th>\n",
              "      <td>0</td>\n",
              "      <td>19</td>\n",
              "      <td>19000</td>\n",
              "      <td>0</td>\n",
              "    </tr>\n",
              "    <tr>\n",
              "      <th>1</th>\n",
              "      <td>0</td>\n",
              "      <td>35</td>\n",
              "      <td>20000</td>\n",
              "      <td>0</td>\n",
              "    </tr>\n",
              "    <tr>\n",
              "      <th>2</th>\n",
              "      <td>1</td>\n",
              "      <td>26</td>\n",
              "      <td>43000</td>\n",
              "      <td>0</td>\n",
              "    </tr>\n",
              "    <tr>\n",
              "      <th>3</th>\n",
              "      <td>1</td>\n",
              "      <td>27</td>\n",
              "      <td>57000</td>\n",
              "      <td>0</td>\n",
              "    </tr>\n",
              "    <tr>\n",
              "      <th>4</th>\n",
              "      <td>0</td>\n",
              "      <td>19</td>\n",
              "      <td>76000</td>\n",
              "      <td>0</td>\n",
              "    </tr>\n",
              "    <tr>\n",
              "      <th>...</th>\n",
              "      <td>...</td>\n",
              "      <td>...</td>\n",
              "      <td>...</td>\n",
              "      <td>...</td>\n",
              "    </tr>\n",
              "    <tr>\n",
              "      <th>395</th>\n",
              "      <td>1</td>\n",
              "      <td>46</td>\n",
              "      <td>41000</td>\n",
              "      <td>1</td>\n",
              "    </tr>\n",
              "    <tr>\n",
              "      <th>396</th>\n",
              "      <td>0</td>\n",
              "      <td>51</td>\n",
              "      <td>23000</td>\n",
              "      <td>1</td>\n",
              "    </tr>\n",
              "    <tr>\n",
              "      <th>397</th>\n",
              "      <td>1</td>\n",
              "      <td>50</td>\n",
              "      <td>20000</td>\n",
              "      <td>1</td>\n",
              "    </tr>\n",
              "    <tr>\n",
              "      <th>398</th>\n",
              "      <td>0</td>\n",
              "      <td>36</td>\n",
              "      <td>33000</td>\n",
              "      <td>0</td>\n",
              "    </tr>\n",
              "    <tr>\n",
              "      <th>399</th>\n",
              "      <td>1</td>\n",
              "      <td>49</td>\n",
              "      <td>36000</td>\n",
              "      <td>1</td>\n",
              "    </tr>\n",
              "  </tbody>\n",
              "</table>\n",
              "<p>400 rows × 4 columns</p>\n",
              "</div>\n",
              "      <button class=\"colab-df-convert\" onclick=\"convertToInteractive('df-a29f3b03-22d2-4455-b002-486ce05113cb')\"\n",
              "              title=\"Convert this dataframe to an interactive table.\"\n",
              "              style=\"display:none;\">\n",
              "        \n",
              "  <svg xmlns=\"http://www.w3.org/2000/svg\" height=\"24px\"viewBox=\"0 0 24 24\"\n",
              "       width=\"24px\">\n",
              "    <path d=\"M0 0h24v24H0V0z\" fill=\"none\"/>\n",
              "    <path d=\"M18.56 5.44l.94 2.06.94-2.06 2.06-.94-2.06-.94-.94-2.06-.94 2.06-2.06.94zm-11 1L8.5 8.5l.94-2.06 2.06-.94-2.06-.94L8.5 2.5l-.94 2.06-2.06.94zm10 10l.94 2.06.94-2.06 2.06-.94-2.06-.94-.94-2.06-.94 2.06-2.06.94z\"/><path d=\"M17.41 7.96l-1.37-1.37c-.4-.4-.92-.59-1.43-.59-.52 0-1.04.2-1.43.59L10.3 9.45l-7.72 7.72c-.78.78-.78 2.05 0 2.83L4 21.41c.39.39.9.59 1.41.59.51 0 1.02-.2 1.41-.59l7.78-7.78 2.81-2.81c.8-.78.8-2.07 0-2.86zM5.41 20L4 18.59l7.72-7.72 1.47 1.35L5.41 20z\"/>\n",
              "  </svg>\n",
              "      </button>\n",
              "      \n",
              "  <style>\n",
              "    .colab-df-container {\n",
              "      display:flex;\n",
              "      flex-wrap:wrap;\n",
              "      gap: 12px;\n",
              "    }\n",
              "\n",
              "    .colab-df-convert {\n",
              "      background-color: #E8F0FE;\n",
              "      border: none;\n",
              "      border-radius: 50%;\n",
              "      cursor: pointer;\n",
              "      display: none;\n",
              "      fill: #1967D2;\n",
              "      height: 32px;\n",
              "      padding: 0 0 0 0;\n",
              "      width: 32px;\n",
              "    }\n",
              "\n",
              "    .colab-df-convert:hover {\n",
              "      background-color: #E2EBFA;\n",
              "      box-shadow: 0px 1px 2px rgba(60, 64, 67, 0.3), 0px 1px 3px 1px rgba(60, 64, 67, 0.15);\n",
              "      fill: #174EA6;\n",
              "    }\n",
              "\n",
              "    [theme=dark] .colab-df-convert {\n",
              "      background-color: #3B4455;\n",
              "      fill: #D2E3FC;\n",
              "    }\n",
              "\n",
              "    [theme=dark] .colab-df-convert:hover {\n",
              "      background-color: #434B5C;\n",
              "      box-shadow: 0px 1px 3px 1px rgba(0, 0, 0, 0.15);\n",
              "      filter: drop-shadow(0px 1px 2px rgba(0, 0, 0, 0.3));\n",
              "      fill: #FFFFFF;\n",
              "    }\n",
              "  </style>\n",
              "\n",
              "      <script>\n",
              "        const buttonEl =\n",
              "          document.querySelector('#df-a29f3b03-22d2-4455-b002-486ce05113cb button.colab-df-convert');\n",
              "        buttonEl.style.display =\n",
              "          google.colab.kernel.accessAllowed ? 'block' : 'none';\n",
              "\n",
              "        async function convertToInteractive(key) {\n",
              "          const element = document.querySelector('#df-a29f3b03-22d2-4455-b002-486ce05113cb');\n",
              "          const dataTable =\n",
              "            await google.colab.kernel.invokeFunction('convertToInteractive',\n",
              "                                                     [key], {});\n",
              "          if (!dataTable) return;\n",
              "\n",
              "          const docLinkHtml = 'Like what you see? Visit the ' +\n",
              "            '<a target=\"_blank\" href=https://colab.research.google.com/notebooks/data_table.ipynb>data table notebook</a>'\n",
              "            + ' to learn more about interactive tables.';\n",
              "          element.innerHTML = '';\n",
              "          dataTable['output_type'] = 'display_data';\n",
              "          await google.colab.output.renderOutput(dataTable, element);\n",
              "          const docLink = document.createElement('div');\n",
              "          docLink.innerHTML = docLinkHtml;\n",
              "          element.appendChild(docLink);\n",
              "        }\n",
              "      </script>\n",
              "    </div>\n",
              "  </div>\n",
              "  "
            ]
          },
          "metadata": {},
          "execution_count": 141
        }
      ]
    },
    {
      "cell_type": "markdown",
      "metadata": {
        "id": "_lrDXgjIgGJ3"
      },
      "source": [
        "**Splitting the dataset into the Training set and Test set**"
      ]
    },
    {
      "cell_type": "code",
      "metadata": {
        "id": "z2QWVTZUfyUB"
      },
      "source": [
        "X = dfT[['Gender','Age','EstimatedSalary']].values\n",
        "y = dfT['Purchased'].values\n",
        "X_train, X_test, y_train, y_test = train_test_split(X,y,test_size = 0.3)"
      ],
      "execution_count": 142,
      "outputs": []
    },
    {
      "cell_type": "markdown",
      "metadata": {
        "id": "XmzkAVfggNrD"
      },
      "source": [
        "**Feature Scaling**"
      ]
    },
    {
      "cell_type": "code",
      "metadata": {
        "id": "UZUJ4Xn4fyW6"
      },
      "source": [
        "scaler = StandardScaler()\n",
        "X_train = scaler.fit_transform(X_train)\n",
        "X_test = scaler.transform(X_test) "
      ],
      "execution_count": 143,
      "outputs": []
    },
    {
      "cell_type": "code",
      "source": [
        "X_train\n"
      ],
      "metadata": {
        "colab": {
          "base_uri": "https://localhost:8080/"
        },
        "id": "JlgSbv2VvXIi",
        "outputId": "fe26a9aa-7e32-48dd-a1cc-2acb268a711d"
      },
      "execution_count": 160,
      "outputs": [
        {
          "output_type": "execute_result",
          "data": {
            "text/plain": [
              "array([[ 0.94440028,  0.56031846, -0.93919505],\n",
              "       [ 0.94440028, -0.07929958,  0.28352656],\n",
              "       [ 0.94440028, -0.81029164,  0.372994  ],\n",
              "       [ 0.94440028,  0.19482244, -0.312923  ],\n",
              "       [ 0.94440028, -1.81540571, -0.79008265],\n",
              "       [-1.05887304, -1.81540571, -0.55150283],\n",
              "       [-1.05887304, -1.6326577 ,  0.46246143],\n",
              "       [ 0.94440028,  0.74306647, -1.44617717],\n",
              "       [-1.05887304, -0.62754362, -0.13398813],\n",
              "       [-1.05887304, -0.2620476 , -0.93919505],\n",
              "       [ 0.94440028,  1.01718849, -1.02866248],\n",
              "       [ 0.94440028, -0.90166564, -0.46203539],\n",
              "       [ 0.94440028,  0.83444048, -0.58132531],\n",
              "       [-1.05887304,  1.01718849,  0.46246143],\n",
              "       [-1.05887304, -0.53616962, -1.56546709],\n",
              "       [-1.05887304,  1.38268452,  0.04494673],\n",
              "       [ 0.94440028, -0.44479561, -0.58132531],\n",
              "       [ 0.94440028,  0.74306647,  0.76068621],\n",
              "       [-1.05887304, -0.07929958,  2.19216517],\n",
              "       [-1.05887304, -0.99303965,  0.55192886],\n",
              "       [-1.05887304, -1.08441366, -1.14795239],\n",
              "       [ 0.94440028,  1.83955455,  0.73086373],\n",
              "       [-1.05887304,  0.19482244, -0.40239044],\n",
              "       [-1.05887304,  0.74306647,  0.25370408],\n",
              "       [-1.05887304, -1.81540571,  0.34317152],\n",
              "       [ 0.94440028,  0.28619644,  0.04494673],\n",
              "       [ 0.94440028, -0.81029164,  0.372994  ],\n",
              "       [ 0.94440028, -0.07929958,  0.67121878],\n",
              "       [-1.05887304, -1.7240317 , -0.01469822],\n",
              "       [ 0.94440028,  1.74818055, -1.32688726],\n",
              "       [ 0.94440028, -0.62754362, -1.65493452],\n",
              "       [-1.05887304,  1.74818055, -0.312923  ],\n",
              "       [-1.05887304, -1.26716167,  0.40281647],\n",
              "       [-1.05887304, -1.17578766,  0.58175134],\n",
              "       [-1.05887304, -0.2620476 , -0.37256796],\n",
              "       [-1.05887304,  1.93092856,  1.77465047],\n",
              "       [ 0.94440028,  0.74306647,  0.34317152],\n",
              "       [-1.05887304,  0.10344843,  1.53607064],\n",
              "       [ 0.94440028, -0.62754362, -0.07434318],\n",
              "       [-1.05887304, -0.71891763,  0.49228391],\n",
              "       [-1.05887304, -0.07929958,  0.19405913],\n",
              "       [-1.05887304,  0.10344843,  1.05891099],\n",
              "       [ 0.94440028, -0.17067359,  0.13441417],\n",
              "       [-1.05887304,  0.83444048, -1.50582213],\n",
              "       [ 0.94440028,  0.65169247, -0.76026018],\n",
              "       [-1.05887304,  0.74306647,  0.52210639],\n",
              "       [ 0.94440028, -0.90166564, -0.34274548],\n",
              "       [ 0.94440028,  2.02230257, -0.7304377 ],\n",
              "       [ 0.94440028,  0.01207442,  1.26766834],\n",
              "       [-1.05887304, -1.7240317 , -1.35670974],\n",
              "       [ 0.94440028, -0.99303965,  0.76068621],\n",
              "       [ 0.94440028, -1.26716167, -0.46203539],\n",
              "       [ 0.94440028,  1.65680654,  0.99926604],\n",
              "       [-1.05887304,  0.19482244, -0.16381061],\n",
              "       [ 0.94440028, -0.2620476 ,  0.01512426],\n",
              "       [ 0.94440028, -0.17067359, -0.22345557],\n",
              "       [-1.05887304, -0.3534216 ,  1.3273133 ],\n",
              "       [-1.05887304,  1.47405853, -0.01469822],\n",
              "       [ 0.94440028, -1.35853568, -0.67079274],\n",
              "       [-1.05887304, -0.07929958, -0.55150283],\n",
              "       [ 0.94440028, -1.6326577 , -1.02866248],\n",
              "       [-1.05887304,  1.56543253, -0.93919505],\n",
              "       [ 0.94440028,  1.1085625 , -1.02866248],\n",
              "       [ 0.94440028, -1.54128369, -0.07434318],\n",
              "       [ 0.94440028, -0.99303965, -0.37256796],\n",
              "       [ 0.94440028, -0.17067359, -0.49185787],\n",
              "       [ 0.94440028, -0.99303965, -0.40239044],\n",
              "       [ 0.94440028, -0.90166564, -0.79008265],\n",
              "       [-1.05887304, -0.90166564,  0.55192886],\n",
              "       [ 0.94440028, -0.62754362,  0.55192886],\n",
              "       [-1.05887304, -1.08441366, -1.62511204],\n",
              "       [-1.05887304, -1.35853568, -1.50582213],\n",
              "       [ 0.94440028, -0.07929958, -0.40239044],\n",
              "       [-1.05887304,  1.93092856,  2.16234269],\n",
              "       [-1.05887304, -0.81029164,  0.13441417],\n",
              "       [-1.05887304,  1.65680654, -0.312923  ],\n",
              "       [-1.05887304, -0.2620476 ,  0.04494673],\n",
              "       [-1.05887304,  0.74306647, -0.34274548],\n",
              "       [ 0.94440028, -0.3534216 ,  0.04494673],\n",
              "       [ 0.94440028, -1.08441366, -0.55150283],\n",
              "       [-1.05887304, -0.2620476 , -1.29706478],\n",
              "       [ 0.94440028,  0.83444048, -0.70061522],\n",
              "       [ 0.94440028, -1.08441366,  1.41678073],\n",
              "       [ 0.94440028,  1.83955455, -1.4163547 ],\n",
              "       [-1.05887304,  0.28619644, -0.76026018],\n",
              "       [ 0.94440028, -0.99303965, -1.17777487],\n",
              "       [ 0.94440028,  1.93092856, -0.84972761],\n",
              "       [-1.05887304, -1.26716167, -0.37256796],\n",
              "       [ 0.94440028,  2.02230257,  1.11855595],\n",
              "       [-1.05887304,  0.19482244,  0.01512426],\n",
              "       [ 0.94440028,  1.38268452, -1.08830744],\n",
              "       [ 0.94440028, -0.90166564,  0.40281647],\n",
              "       [-1.05887304,  0.46894446,  1.74482799],\n",
              "       [ 0.94440028,  0.28619644,  0.28352656],\n",
              "       [ 0.94440028,  0.83444048, -1.20759735],\n",
              "       [ 0.94440028,  1.93092856, -1.23741983],\n",
              "       [ 0.94440028, -1.6326577 ,  0.34317152],\n",
              "       [ 0.94440028,  1.38268452,  2.16234269],\n",
              "       [ 0.94440028, -1.08441366,  0.04494673],\n",
              "       [ 0.94440028, -1.26716167, -1.29706478],\n",
              "       [-1.05887304, -0.62754362,  0.16423665],\n",
              "       [ 0.94440028,  1.38268452,  0.34317152],\n",
              "       [-1.05887304,  0.01207442, -0.58132531],\n",
              "       [-1.05887304,  1.01718849,  0.52210639],\n",
              "       [ 0.94440028, -0.99303965,  0.40281647],\n",
              "       [-1.05887304, -0.2620476 ,  0.52210639],\n",
              "       [-1.05887304, -0.07929958, -0.01469822],\n",
              "       [ 0.94440028,  0.28619644,  0.04494673],\n",
              "       [-1.05887304, -1.7240317 , -1.53564461],\n",
              "       [ 0.94440028,  0.74306647, -1.14795239],\n",
              "       [ 0.94440028, -1.44990968, -1.29706478],\n",
              "       [-1.05887304, -1.17578766, -1.44617717],\n",
              "       [ 0.94440028, -1.08441366,  0.40281647],\n",
              "       [ 0.94440028, -1.26716167,  0.55192886],\n",
              "       [-1.05887304,  0.19482244, -0.28310053],\n",
              "       [ 0.94440028,  1.29131051,  2.0132303 ],\n",
              "       [ 0.94440028,  0.92581449, -1.05848496],\n",
              "       [ 0.94440028, -1.7240317 , -1.47599965],\n",
              "       [ 0.94440028, -0.81029164, -1.26724231],\n",
              "       [ 0.94440028,  0.37757045,  0.13441417],\n",
              "       [-1.05887304, -0.99303965,  0.52210639],\n",
              "       [-1.05887304, -0.2620476 , -0.46203539],\n",
              "       [-1.05887304,  0.74306647,  1.38695825],\n",
              "       [-1.05887304,  2.02230257, -1.08830744],\n",
              "       [-1.05887304, -0.2620476 , -0.96901752],\n",
              "       [ 0.94440028, -1.81540571,  0.46246143],\n",
              "       [ 0.94440028,  0.28619644,  0.01512426],\n",
              "       [ 0.94440028, -0.44479561,  1.26766834],\n",
              "       [-1.05887304, -0.53616962,  1.47642569],\n",
              "       [ 0.94440028,  1.38268452,  0.99926604],\n",
              "       [ 0.94440028,  0.10344843,  1.89394038],\n",
              "       [-1.05887304, -1.54128369,  0.04494673],\n",
              "       [ 0.94440028, -1.44990968, -0.22345557],\n",
              "       [-1.05887304,  2.02230257,  0.93962108],\n",
              "       [-1.05887304,  0.28619644,  0.04494673],\n",
              "       [-1.05887304, -0.62754362,  0.10459169],\n",
              "       [-1.05887304, -0.81029164,  0.28352656],\n",
              "       [-1.05887304,  0.28619644,  0.25370408],\n",
              "       [-1.05887304,  1.83955455,  2.19216517],\n",
              "       [ 0.94440028,  1.93092856,  0.16423665],\n",
              "       [ 0.94440028,  0.83444048,  1.26766834],\n",
              "       [-1.05887304, -1.17578766, -1.11812991],\n",
              "       [-1.05887304, -0.17067359,  1.62553808],\n",
              "       [ 0.94440028, -0.53616962,  2.37110003],\n",
              "       [ 0.94440028, -0.90166564,  0.49228391],\n",
              "       [ 0.94440028, -0.3534216 , -1.35670974],\n",
              "       [-1.05887304,  0.10344843,  0.01512426],\n",
              "       [ 0.94440028,  1.1085625 , -0.79008265],\n",
              "       [ 0.94440028,  0.10344843,  0.01512426],\n",
              "       [ 0.94440028, -0.71891763, -0.25327805],\n",
              "       [ 0.94440028,  0.92581449,  2.0132303 ],\n",
              "       [ 0.94440028,  0.65169247,  1.80447295],\n",
              "       [-1.05887304, -1.44990968, -1.56546709],\n",
              "       [ 0.94440028, -0.2620476 ,  0.19405913],\n",
              "       [-1.05887304,  0.83444048, -1.08830744],\n",
              "       [-1.05887304, -0.62754362, -0.37256796],\n",
              "       [ 0.94440028, -0.2620476 , -0.312923  ],\n",
              "       [ 0.94440028, -0.90166564, -0.99884   ],\n",
              "       [ 0.94440028,  0.10344843, -0.34274548],\n",
              "       [ 0.94440028,  1.83955455, -0.70061522],\n",
              "       [ 0.94440028, -0.07929958, -1.11812991],\n",
              "       [-1.05887304, -0.2620476 ,  1.11855595],\n",
              "       [ 0.94440028, -0.44479561,  2.34127756],\n",
              "       [-1.05887304,  0.28619644,  0.49228391],\n",
              "       [-1.05887304, -0.3534216 ,  1.23784586],\n",
              "       [-1.05887304,  0.83444048, -1.35670974],\n",
              "       [-1.05887304,  0.65169247, -1.32688726],\n",
              "       [-1.05887304,  0.92581449,  0.58175134],\n",
              "       [-1.05887304,  0.10344843,  1.89394038],\n",
              "       [-1.05887304, -0.81029164, -0.81990513],\n",
              "       [ 0.94440028, -0.2620476 , -1.35670974],\n",
              "       [ 0.94440028, -0.2620476 ,  0.79050869],\n",
              "       [-1.05887304,  1.01718849,  0.10459169],\n",
              "       [-1.05887304,  1.01718849,  0.55192886],\n",
              "       [-1.05887304,  0.37757045, -0.16381061],\n",
              "       [ 0.94440028, -1.6326577 ,  0.34317152],\n",
              "       [-1.05887304,  0.37757045, -0.49185787],\n",
              "       [-1.05887304, -1.7240317 ,  0.43263895],\n",
              "       [-1.05887304, -0.2620476 ,  0.13441417],\n",
              "       [ 0.94440028,  0.19482244,  2.13252021],\n",
              "       [-1.05887304,  2.02230257,  0.372994  ],\n",
              "       [ 0.94440028,  1.29131051,  1.29749082],\n",
              "       [ 0.94440028,  1.56543253,  1.77465047],\n",
              "       [-1.05887304,  0.37757045,  0.99926604],\n",
              "       [ 0.94440028, -0.44479561, -0.0445207 ],\n",
              "       [ 0.94440028,  0.56031846,  2.04305277],\n",
              "       [-1.05887304, -1.08441366, -1.20759735],\n",
              "       [ 0.94440028,  0.37757045,  0.28352656],\n",
              "       [ 0.94440028, -1.44990968, -0.46203539],\n",
              "       [-1.05887304,  1.65680654,  1.86411791],\n",
              "       [ 0.94440028,  0.37757045,  1.11855595],\n",
              "       [-1.05887304, -1.7240317 ,  0.16423665],\n",
              "       [-1.05887304,  0.01207442, -0.34274548],\n",
              "       [ 0.94440028,  0.92581449, -1.20759735],\n",
              "       [-1.05887304,  0.92581449,  0.10459169],\n",
              "       [-1.05887304, -1.17578766,  0.28352656],\n",
              "       [-1.05887304, -1.44990968,  0.31334904],\n",
              "       [ 0.94440028, -0.17067359, -0.61114779],\n",
              "       [ 0.94440028,  0.10344843, -0.28310053],\n",
              "       [-1.05887304, -0.17067359, -1.11812991],\n",
              "       [ 0.94440028, -0.71891763,  1.35713578],\n",
              "       [ 0.94440028, -0.44479561, -0.87955009],\n",
              "       [-1.05887304, -0.81029164, -0.81990513],\n",
              "       [ 0.94440028,  1.74818055, -1.11812991],\n",
              "       [ 0.94440028, -1.08441366, -1.65493452],\n",
              "       [-1.05887304,  0.19482244,  0.2238816 ],\n",
              "       [-1.05887304, -1.17578766,  0.25370408],\n",
              "       [-1.05887304, -0.99303965, -0.37256796],\n",
              "       [ 0.94440028,  1.93092856,  0.372994  ],\n",
              "       [ 0.94440028,  1.56543253,  1.62553808],\n",
              "       [-1.05887304, -0.3534216 , -0.81990513],\n",
              "       [ 0.94440028,  0.10344843,  0.25370408],\n",
              "       [-1.05887304, -1.26716167, -1.53564461],\n",
              "       [ 0.94440028, -0.99303965,  1.98340782],\n",
              "       [-1.05887304, -1.54128369,  0.52210639],\n",
              "       [-1.05887304,  0.92581449, -1.11812991],\n",
              "       [-1.05887304, -0.81029164,  2.31145508],\n",
              "       [-1.05887304, -0.2620476 , -1.50582213],\n",
              "       [ 0.94440028,  0.28619644, -0.312923  ],\n",
              "       [ 0.94440028,  0.65169247, -1.44617717],\n",
              "       [ 0.94440028, -0.07929958,  1.98340782],\n",
              "       [-1.05887304, -0.2620476 , -0.34274548],\n",
              "       [-1.05887304, -1.26716167, -1.4163547 ],\n",
              "       [-1.05887304, -0.07929958, -0.52168035],\n",
              "       [ 0.94440028,  0.37757045,  0.58175134],\n",
              "       [ 0.94440028, -0.2620476 , -0.79008265],\n",
              "       [ 0.94440028,  1.74818055,  1.53607064],\n",
              "       [-1.05887304, -0.07929958,  0.25370408],\n",
              "       [ 0.94440028,  0.01207442, -0.61114779],\n",
              "       [ 0.94440028,  0.74306647,  0.10459169],\n",
              "       [-1.05887304,  0.19482244, -0.70061522],\n",
              "       [ 0.94440028,  0.83444048,  1.08873347],\n",
              "       [-1.05887304,  0.92581449, -1.11812991],\n",
              "       [ 0.94440028,  0.01207442, -0.16381061],\n",
              "       [-1.05887304, -1.17578766,  0.49228391],\n",
              "       [ 0.94440028,  1.1085625 , -1.50582213],\n",
              "       [ 0.94440028, -0.2620476 , -1.4163547 ],\n",
              "       [-1.05887304,  0.65169247, -1.44617717],\n",
              "       [-1.05887304, -0.07929958,  0.10459169],\n",
              "       [ 0.94440028,  0.01207442,  1.23784586],\n",
              "       [ 0.94440028,  0.83444048,  2.19216517],\n",
              "       [-1.05887304,  0.83444048, -1.4163547 ],\n",
              "       [-1.05887304,  0.10344843,  0.19405913],\n",
              "       [ 0.94440028, -1.35853568, -0.13398813],\n",
              "       [-1.05887304,  0.65169247,  0.25370408],\n",
              "       [ 0.94440028,  1.19993651,  1.89394038],\n",
              "       [-1.05887304, -0.07929958,  0.13441417],\n",
              "       [ 0.94440028,  0.92581449,  0.76068621],\n",
              "       [-1.05887304,  0.37757045,  0.07476921],\n",
              "       [-1.05887304, -1.35853568, -0.22345557],\n",
              "       [ 0.94440028, -0.2620476 , -0.61114779],\n",
              "       [ 0.94440028,  1.29131051, -1.47599965],\n",
              "       [ 0.94440028,  0.10344843,  0.07476921],\n",
              "       [-1.05887304, -0.2620476 , -0.61114779],\n",
              "       [-1.05887304,  0.10344843, -0.84972761],\n",
              "       [-1.05887304,  0.19482244, -0.40239044],\n",
              "       [-1.05887304, -0.2620476 ,  0.07476921],\n",
              "       [ 0.94440028, -0.2620476 ,  0.04494673],\n",
              "       [-1.05887304, -1.26716167, -0.46203539],\n",
              "       [ 0.94440028, -1.08441366, -1.05848496],\n",
              "       [ 0.94440028,  0.19482244,  0.13441417],\n",
              "       [ 0.94440028,  0.92581449,  1.44660321],\n",
              "       [-1.05887304, -1.08441366,  0.46246143],\n",
              "       [ 0.94440028, -0.07929958, -0.25327805],\n",
              "       [ 0.94440028, -0.81029164, -0.70061522],\n",
              "       [ 0.94440028,  1.19993651,  2.25181012],\n",
              "       [-1.05887304,  0.19482244, -0.34274548],\n",
              "       [-1.05887304,  1.74818055,  0.10459169],\n",
              "       [ 0.94440028,  0.74306647, -0.87955009],\n",
              "       [-1.05887304, -0.99303965,  0.58175134],\n",
              "       [ 0.94440028, -0.53616962,  1.38695825],\n",
              "       [-1.05887304,  0.65169247, -1.14795239],\n",
              "       [-1.05887304,  1.01718849, -1.26724231],\n",
              "       [-1.05887304,  0.28619644, -0.55150283],\n",
              "       [ 0.94440028, -0.07929958,  0.28352656],\n",
              "       [ 0.94440028, -0.99303965, -1.59528957],\n",
              "       [ 0.94440028,  0.46894446,  1.86411791],\n",
              "       [ 0.94440028, -0.2620476 , -0.16381061],\n",
              "       [ 0.94440028,  1.47405853,  0.99926604],\n",
              "       [ 0.94440028,  1.83955455,  0.9097986 ]])"
            ]
          },
          "metadata": {},
          "execution_count": 160
        }
      ]
    },
    {
      "cell_type": "markdown",
      "metadata": {
        "id": "BWpz-G_KgaB5"
      },
      "source": [
        "**Fitting K-NN to the Training set**"
      ]
    },
    {
      "cell_type": "code",
      "metadata": {
        "id": "5Wo68lCqfyc6",
        "colab": {
          "base_uri": "https://localhost:8080/"
        },
        "outputId": "c4ef442b-824a-41ca-89fc-f926f61da191"
      },
      "source": [
        "from sklearn.neighbors import KNeighborsClassifier\n",
        "knn = KNeighborsClassifier() # jus k=5 value randomly given by me not found by n-fold cross val\n",
        "knn.fit(X_train,y_train)\n",
        "# knn.score(x_test,y_test) #accuracy"
      ],
      "execution_count": 144,
      "outputs": [
        {
          "output_type": "execute_result",
          "data": {
            "text/plain": [
              "KNeighborsClassifier()"
            ]
          },
          "metadata": {},
          "execution_count": 144
        }
      ]
    },
    {
      "cell_type": "code",
      "source": [
        "for i in [1,2,3,4,5,6,7,8,9,10,20,50]:\n",
        "  knn = KNeighborsClassifier(i) #initialising the model\n",
        "  knn.fit(X_train,y_train) # training the model\n",
        "  print(\"K value  : \" , i, \" train score : \", knn.score(X_train,y_train) , \" cv score : \", np.mean(cross_val_score(knn, X_train, y_train, cv=10, scoring = \"roc_auc\"))) #predicting using the model\n"
      ],
      "metadata": {
        "colab": {
          "base_uri": "https://localhost:8080/"
        },
        "id": "LDjN_hZypsS1",
        "outputId": "ee1551ae-99fc-45c1-f471-75b2e10cc741"
      },
      "execution_count": 145,
      "outputs": [
        {
          "output_type": "stream",
          "name": "stdout",
          "text": [
            "K value  :  1  train score :  1.0  cv score :  0.8299999999999998\n",
            "K value  :  2  train score :  0.9142857142857143  cv score :  0.9033333333333333\n",
            "K value  :  3  train score :  0.925  cv score :  0.913888888888889\n",
            "K value  :  4  train score :  0.9035714285714286  cv score :  0.9305555555555557\n",
            "K value  :  5  train score :  0.9107142857142857  cv score :  0.9327777777777777\n",
            "K value  :  6  train score :  0.9071428571428571  cv score :  0.9283333333333333\n",
            "K value  :  7  train score :  0.9071428571428571  cv score :  0.9252777777777779\n",
            "K value  :  8  train score :  0.9071428571428571  cv score :  0.9319444444444445\n",
            "K value  :  9  train score :  0.9107142857142857  cv score :  0.9399999999999998\n",
            "K value  :  10  train score :  0.9107142857142857  cv score :  0.9391666666666666\n",
            "K value  :  20  train score :  0.8964285714285715  cv score :  0.9488888888888889\n",
            "K value  :  50  train score :  0.7857142857142857  cv score :  0.9419444444444445\n"
          ]
        }
      ]
    },
    {
      "cell_type": "markdown",
      "metadata": {
        "id": "GoGxoF-kgmlj"
      },
      "source": [
        "**Predicting the Test set results**"
      ]
    },
    {
      "cell_type": "code",
      "metadata": {
        "id": "aEOlRLkefye3",
        "colab": {
          "base_uri": "https://localhost:8080/"
        },
        "outputId": "2305a96e-579c-4918-a368-85ad73b95486"
      },
      "source": [
        "y_pred=knn.predict(X_test)\n",
        "y_pred"
      ],
      "execution_count": 148,
      "outputs": [
        {
          "output_type": "execute_result",
          "data": {
            "text/plain": [
              "array([0, 0, 0, 0, 0, 0, 0, 0, 0, 0, 0, 1, 0, 0, 0, 0, 0, 0, 0, 0, 0, 0,\n",
              "       1, 0, 0, 0, 0, 0, 1, 0, 0, 0, 0, 0, 0, 0, 0, 0, 0, 0, 0, 1, 1, 0,\n",
              "       0, 1, 0, 1, 0, 0, 0, 0, 0, 1, 0, 1, 0, 0, 0, 0, 0, 0, 0, 0, 0, 0,\n",
              "       0, 0, 0, 0, 0, 0, 0, 0, 0, 0, 0, 0, 0, 1, 0, 0, 1, 0, 0, 0, 0, 0,\n",
              "       0, 1, 0, 0, 0, 0, 0, 0, 0, 0, 0, 0, 0, 0, 0, 1, 0, 0, 0, 0, 0, 0,\n",
              "       0, 1, 1, 0, 0, 0, 0, 1, 1, 0])"
            ]
          },
          "metadata": {},
          "execution_count": 148
        }
      ]
    },
    {
      "cell_type": "code",
      "source": [],
      "metadata": {
        "id": "R8VAXewJr3lY"
      },
      "execution_count": 156,
      "outputs": []
    },
    {
      "cell_type": "markdown",
      "metadata": {
        "id": "cYfKp7MQgwX7"
      },
      "source": [
        "**Making the Confusion Matrix**"
      ]
    },
    {
      "cell_type": "code",
      "metadata": {
        "id": "zFhgq3Yufyh5",
        "colab": {
          "base_uri": "https://localhost:8080/"
        },
        "outputId": "62e9a640-66af-45dd-ed0c-e799a6f25bc3"
      },
      "source": [
        "from sklearn.metrics import confusion_matrix\n",
        "confusion_matrix(y_test,y_pred)"
      ],
      "execution_count": 158,
      "outputs": [
        {
          "output_type": "execute_result",
          "data": {
            "text/plain": [
              "array([[76,  1],\n",
              "       [27, 16]])"
            ]
          },
          "metadata": {},
          "execution_count": 158
        }
      ]
    },
    {
      "cell_type": "code",
      "metadata": {
        "id": "sp18d2Zhg4Me"
      },
      "source": [],
      "execution_count": 146,
      "outputs": []
    }
  ]
}